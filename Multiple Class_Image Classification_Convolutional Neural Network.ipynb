{
 "cells": [
  {
   "cell_type": "code",
   "execution_count": 1,
   "metadata": {},
   "outputs": [
    {
     "name": "stderr",
     "output_type": "stream",
     "text": [
      "C:\\Users\\Lokesh Vairamuthu\\Anaconda3\\lib\\site-packages\\h5py\\__init__.py:36: FutureWarning: Conversion of the second argument of issubdtype from `float` to `np.floating` is deprecated. In future, it will be treated as `np.float64 == np.dtype(float).type`.\n",
      "  from ._conv import register_converters as _register_converters\n",
      "Using TensorFlow backend.\n"
     ]
    }
   ],
   "source": [
    "import os\n",
    "from keras.models import Sequential\n",
    "from keras.layers import Dense, add, Activation, MaxPooling2D, Conv2D, Dropout, Flatten\n",
    "from keras.utils import np_utils\n",
    "import numpy as np\n",
    "import matplotlib.image as mpimg\n",
    "from sklearn.preprocessing import LabelEncoder\n",
    "from sklearn.model_selection import train_test_split\n",
    "import matplotlib.pyplot as plt"
   ]
  },
  {
   "cell_type": "code",
   "execution_count": 2,
   "metadata": {},
   "outputs": [],
   "source": [
    "path_aircraft = r\"C:\\\\Users\\\\Lokesh Vairamuthu\\\\Desktop\\\\Machine_Learning Datasets\\\\Natural Images Classification\\\\natural-images\\\\natural_images\\\\airplane\"\n",
    "path_car = r\"C:\\\\Users\\\\Lokesh Vairamuthu\\\\Desktop\\\\Machine_Learning Datasets\\\\Natural Images Classification\\\\natural-images\\\\natural_images\\\\car\"\n",
    "path_cat = r\"C:\\\\Users\\\\Lokesh Vairamuthu\\\\Desktop\\\\Machine_Learning Datasets\\\\Natural Images Classification\\\\natural-images\\\\natural_images\\\\cat\"\n",
    "path_dog = r\"C:\\\\Users\\\\Lokesh Vairamuthu\\\\Desktop\\\\Machine_Learning Datasets\\\\Natural Images Classification\\\\natural-images\\\\natural_images\\\\dog\"\n",
    "path_flower = r\"C:\\\\Users\\\\Lokesh Vairamuthu\\\\Desktop\\\\Machine_Learning Datasets\\\\Natural Images Classification\\\\natural-images\\\\natural_images\\\\flower\"\n",
    "path_fruit = r\"C:\\\\Users\\\\Lokesh Vairamuthu\\\\Desktop\\\\Machine_Learning Datasets\\\\Natural Images Classification\\\\natural-images\\\\natural_images\\\\fruit\"\n",
    "path_motorbike = r\"C:\\\\Users\\\\Lokesh Vairamuthu\\\\Desktop\\\\Machine_Learning Datasets\\\\Natural Images Classification\\\\natural-images\\\\natural_images\\\\motorbike\"\n",
    "path_person = r\"C:\\\\Users\\\\Lokesh Vairamuthu\\\\Desktop\\\\Machine_Learning Datasets\\\\Natural Images Classification\\\\natural-images\\\\natural_images\\\\person\"\n",
    "\n",
    "aircraft = os.listdir(path_aircraft)\n",
    "car = os.listdir(path_car)\n",
    "cat = os.listdir(path_cat)\n",
    "dog = os.listdir(path_dog)\n",
    "flower = os.listdir(path_flower)\n",
    "fruit = os.listdir(path_fruit)\n",
    "motorbike = os.listdir(path_motorbike)\n",
    "person = os.listdir(path_person)\n",
    "\n",
    "aircraft_img_path = aircraft\n",
    "car_img_path = car\n",
    "cat_img_path = cat\n",
    "dog_img_path = dog\n",
    "flower_img_path = flower\n",
    "fruit_img_path = fruit\n",
    "motorbike_img_path = motorbike\n",
    "person_img_path = person\n",
    "\n",
    "len_aircraft = len(aircraft)\n",
    "len_car = len(car)\n",
    "len_cat = len(cat)\n",
    "len_dog = len(dog)\n",
    "len_flower = len(flower)\n",
    "len_fruit = len(fruit)\n",
    "len_motorbike = len(motorbike)\n",
    "len_person = len(person)\n",
    "\n",
    "for i in range(0,len_aircraft):\n",
    "    aircraft_img_path[i] = os.path.abspath(os.path.join(path_aircraft,aircraft[i]))\n",
    "for i in range(0,len_car):\n",
    "    car_img_path[i] = os.path.abspath(os.path.join(path_car,car[i]))\n",
    "for i in range(0,len_cat):\n",
    "    cat_img_path[i] = os.path.abspath(os.path.join(path_cat,cat[i]))\n",
    "for i in range(0,len_dog):\n",
    "    dog_img_path[i] = os.path.abspath(os.path.join(path_dog,dog[i]))\n",
    "for i in range(0,len_flower):\n",
    "    flower_img_path[i] = os.path.abspath(os.path.join(path_flower,flower[i]))\n",
    "for i in range(0,len_fruit):\n",
    "    fruit_img_path[i] = os.path.abspath(os.path.join(path_fruit,fruit[i]))\n",
    "for i in range(0,len_motorbike):\n",
    "    motorbike_img_path[i] = os.path.abspath(os.path.join(path_motorbike,motorbike[i]))\n",
    "for i in range(0,len_person):\n",
    "    person_img_path[i] = os.path.abspath(os.path.join(path_person,person[i]))"
   ]
  },
  {
   "cell_type": "code",
   "execution_count": 3,
   "metadata": {},
   "outputs": [],
   "source": [
    "img_aircraft = np.zeros([727,64,64,3])\n",
    "for i in range(0,len_aircraft):\n",
    "    aa = mpimg.imread(aircraft_img_path[i])\n",
    "    img_aircraft[i] = np.resize(aa,(64,64,3))\n",
    "    \n",
    "img_car = np.zeros([968,64,64,3])\n",
    "for i in range(0,len_car):\n",
    "    bb = mpimg.imread(car_img_path[i])\n",
    "    img_car[i] = np.resize(bb,(64,64,3))\n",
    "\n",
    "img_cat = np.zeros([885,64,64,3])\n",
    "for i in range(0,len_cat):\n",
    "    cc = mpimg.imread(cat_img_path[i])\n",
    "    img_cat[i] = np.resize(cc,(64,64,3))\n",
    "    \n",
    "img_dog = np.zeros([702,64,64,3])\n",
    "for i in range(0,len_dog):\n",
    "    dd = mpimg.imread(dog_img_path[i])\n",
    "    img_dog[i] = np.resize(dd,(64,64,3))\n",
    "    \n",
    "img_flower = np.zeros([843,64,64,3])\n",
    "for i in range(0,len_flower):\n",
    "    ee = mpimg.imread(flower_img_path[i])\n",
    "    img_flower[i] = np.resize(ee,(64,64,3))\n",
    "    \n",
    "img_fruit = np.zeros([1000,64,64,3])\n",
    "for i in range(0,len_fruit):\n",
    "    ff = mpimg.imread(fruit_img_path[i])\n",
    "    img_fruit[i] = np.resize(ff,(64,64,3))\n",
    "    \n",
    "img_motorbike = np.zeros([788,64,64,3])\n",
    "for i in range(0,len_motorbike):\n",
    "    gg = mpimg.imread(motorbike_img_path[i])\n",
    "    img_motorbike[i] = np.resize(gg,(64,64,3))\n",
    "    \n",
    "img_person = np.zeros([986,64,64,3])\n",
    "for i in range(0,len_person):\n",
    "    hh = mpimg.imread(person_img_path[i])\n",
    "    img_person[i] = np.resize(hh,(64,64,3))"
   ]
  },
  {
   "cell_type": "code",
   "execution_count": 4,
   "metadata": {},
   "outputs": [],
   "source": [
    "X = np.concatenate((img_aircraft, img_car), axis=0)\n",
    "X = np.concatenate((X, img_cat), axis=0)\n",
    "X = np.concatenate((X, img_dog), axis=0)\n",
    "X = np.concatenate((X, img_flower), axis=0)\n",
    "X = np.concatenate((X, img_fruit), axis=0)\n",
    "X = np.concatenate((X, img_motorbike), axis=0)\n",
    "X = np.concatenate((X, img_person), axis=0)"
   ]
  },
  {
   "cell_type": "code",
   "execution_count": 5,
   "metadata": {},
   "outputs": [],
   "source": [
    "y1 = np.chararray((727,1), itemsize=8)\n",
    "y1[:] = 'aircraft'\n",
    "y2 = np.chararray((968,1), itemsize=3)\n",
    "y2[:] = 'car'\n",
    "y3 = np.chararray((885,1), itemsize=3)\n",
    "y3[:] = 'cat'\n",
    "y4 = np.chararray((702,1), itemsize=3)\n",
    "y4[:] = 'dog'\n",
    "y5 = np.chararray((843,1), itemsize=6)\n",
    "y5[:] = 'flower'\n",
    "y6 = np.chararray((1000,1), itemsize=5)\n",
    "y6[:] = 'fruit'\n",
    "y7 = np.chararray((788,1), itemsize=9)\n",
    "y7[:] = 'motorbike'\n",
    "y8 = np.chararray((986,1), itemsize=6)\n",
    "y8[:] = 'person'"
   ]
  },
  {
   "cell_type": "code",
   "execution_count": 6,
   "metadata": {},
   "outputs": [],
   "source": [
    "y = np.concatenate((y1, y2), axis=0)\n",
    "y = np.concatenate((y, y3), axis=0)\n",
    "y = np.concatenate((y, y4), axis=0)\n",
    "y = np.concatenate((y, y5), axis=0)\n",
    "y = np.concatenate((y, y6), axis=0)\n",
    "y = np.concatenate((y, y7), axis=0)\n",
    "y = np.concatenate((y, y8), axis=0)"
   ]
  },
  {
   "cell_type": "code",
   "execution_count": 7,
   "metadata": {},
   "outputs": [
    {
     "name": "stderr",
     "output_type": "stream",
     "text": [
      "C:\\Users\\Lokesh Vairamuthu\\Anaconda3\\lib\\site-packages\\sklearn\\preprocessing\\label.py:111: DataConversionWarning: A column-vector y was passed when a 1d array was expected. Please change the shape of y to (n_samples, ), for example using ravel().\n",
      "  y = column_or_1d(y, warn=True)\n",
      "C:\\Users\\Lokesh Vairamuthu\\Anaconda3\\lib\\site-packages\\sklearn\\preprocessing\\label.py:128: DataConversionWarning: A column-vector y was passed when a 1d array was expected. Please change the shape of y to (n_samples, ), for example using ravel().\n",
      "  y = column_or_1d(y, warn=True)\n"
     ]
    }
   ],
   "source": [
    "encoder = LabelEncoder()\n",
    "encoder.fit_transform(y)\n",
    "y_encoded = encoder.transform(y)\n",
    "\n",
    "y_dummy = np_utils.to_categorical(y_encoded)"
   ]
  },
  {
   "cell_type": "code",
   "execution_count": 8,
   "metadata": {},
   "outputs": [],
   "source": [
    "X_train, X_test, y_train, y_test = train_test_split(X, y_dummy, test_size=0.23, random_state=42)"
   ]
  },
  {
   "cell_type": "code",
   "execution_count": 9,
   "metadata": {},
   "outputs": [],
   "source": [
    "model = Sequential()\n",
    "model.add(Conv2D(32, (3,3), input_shape=(64,64,3), activation='relu'))\n",
    "model.add(MaxPooling2D(pool_size=(2,2)))\n",
    "model.add(Conv2D(32, (3,3), activation='relu'))\n",
    "model.add(MaxPooling2D(pool_size=(2,2)))\n",
    "model.add(Flatten())\n",
    "model.add(Dense(128, activation=\"relu\"))\n",
    "model.add(Dropout(0.2))\n",
    "model.add(Dense(64, activation=\"relu\"))\n",
    "model.add(Dropout(0.2))\n",
    "model.add(Dense(16, activation=\"relu\"))\n",
    "model.add(Dropout(0.2))\n",
    "model.add(Dense(8, activation=\"sigmoid\"))"
   ]
  },
  {
   "cell_type": "code",
   "execution_count": 10,
   "metadata": {},
   "outputs": [],
   "source": [
    "model.compile(loss='binary_crossentropy', optimizer='adam', metrics=['accuracy'])"
   ]
  },
  {
   "cell_type": "code",
   "execution_count": 11,
   "metadata": {
    "scrolled": true
   },
   "outputs": [
    {
     "name": "stdout",
     "output_type": "stream",
     "text": [
      "Epoch 1/100\n",
      "5312/5312 [==============================] - 33s 6ms/step - loss: 1.1410 - acc: 0.7327\n",
      "Epoch 2/100\n",
      "5312/5312 [==============================] - 32s 6ms/step - loss: 0.5209 - acc: 0.7940\n",
      "Epoch 3/100\n",
      "5312/5312 [==============================] - 33s 6ms/step - loss: 0.4428 - acc: 0.8394\n",
      "Epoch 4/100\n",
      "5312/5312 [==============================] - 32s 6ms/step - loss: 0.3942 - acc: 0.8587\n",
      "Epoch 5/100\n",
      "5312/5312 [==============================] - 31s 6ms/step - loss: 0.3669 - acc: 0.8704\n",
      "Epoch 6/100\n",
      "5312/5312 [==============================] - 31s 6ms/step - loss: 0.3490 - acc: 0.8772\n",
      "Epoch 7/100\n",
      "5312/5312 [==============================] - 31s 6ms/step - loss: 0.3243 - acc: 0.8843\n",
      "Epoch 8/100\n",
      "5312/5312 [==============================] - 31s 6ms/step - loss: 0.3117 - acc: 0.8887\n",
      "Epoch 9/100\n",
      "5312/5312 [==============================] - 31s 6ms/step - loss: 0.2989 - acc: 0.8903\n",
      "Epoch 10/100\n",
      "5312/5312 [==============================] - 31s 6ms/step - loss: 0.2803 - acc: 0.8967\n",
      "Epoch 11/100\n",
      "5312/5312 [==============================] - 31s 6ms/step - loss: 0.2657 - acc: 0.9039\n",
      "Epoch 12/100\n",
      "5312/5312 [==============================] - 31s 6ms/step - loss: 0.2476 - acc: 0.9089\n",
      "Epoch 13/100\n",
      "5312/5312 [==============================] - 31s 6ms/step - loss: 0.2445 - acc: 0.9081\n",
      "Epoch 14/100\n",
      "5312/5312 [==============================] - 31s 6ms/step - loss: 0.2610 - acc: 0.9063\n",
      "Epoch 15/100\n",
      "5312/5312 [==============================] - 31s 6ms/step - loss: 0.2237 - acc: 0.9155\n",
      "Epoch 16/100\n",
      "5312/5312 [==============================] - 31s 6ms/step - loss: 0.2367 - acc: 0.9098\n",
      "Epoch 17/100\n",
      "5312/5312 [==============================] - 31s 6ms/step - loss: 0.2228 - acc: 0.9155\n",
      "Epoch 18/100\n",
      "5312/5312 [==============================] - 31s 6ms/step - loss: 0.2150 - acc: 0.9159\n",
      "Epoch 19/100\n",
      "5312/5312 [==============================] - 32s 6ms/step - loss: 0.2080 - acc: 0.9194\n",
      "Epoch 20/100\n",
      "5312/5312 [==============================] - 31s 6ms/step - loss: 0.1988 - acc: 0.9227\n",
      "Epoch 21/100\n",
      "5312/5312 [==============================] - 31s 6ms/step - loss: 0.1924 - acc: 0.9241\n",
      "Epoch 22/100\n",
      "5312/5312 [==============================] - 31s 6ms/step - loss: 0.1848 - acc: 0.9274\n",
      "Epoch 23/100\n",
      "5312/5312 [==============================] - 31s 6ms/step - loss: 0.1835 - acc: 0.9278\n",
      "Epoch 24/100\n",
      "5312/5312 [==============================] - 31s 6ms/step - loss: 0.1851 - acc: 0.9276\n",
      "Epoch 25/100\n",
      "5312/5312 [==============================] - 31s 6ms/step - loss: 0.1779 - acc: 0.9302\n",
      "Epoch 26/100\n",
      "5312/5312 [==============================] - 31s 6ms/step - loss: 0.1623 - acc: 0.9345\n",
      "Epoch 27/100\n",
      "5312/5312 [==============================] - 31s 6ms/step - loss: 0.1601 - acc: 0.9354\n",
      "Epoch 28/100\n",
      "5312/5312 [==============================] - 31s 6ms/step - loss: 0.1554 - acc: 0.9373\n",
      "Epoch 29/100\n",
      "5312/5312 [==============================] - 32s 6ms/step - loss: 0.1484 - acc: 0.9391\n",
      "Epoch 30/100\n",
      "5312/5312 [==============================] - 31s 6ms/step - loss: 0.1423 - acc: 0.9412\n",
      "Epoch 31/100\n",
      "5312/5312 [==============================] - 31s 6ms/step - loss: 0.1415 - acc: 0.9429\n",
      "Epoch 32/100\n",
      "5312/5312 [==============================] - 31s 6ms/step - loss: 0.1671 - acc: 0.9349\n",
      "Epoch 33/100\n",
      "5312/5312 [==============================] - 31s 6ms/step - loss: 0.1404 - acc: 0.9444\n",
      "Epoch 34/100\n",
      "5312/5312 [==============================] - 31s 6ms/step - loss: 0.1325 - acc: 0.9476\n",
      "Epoch 35/100\n",
      "5312/5312 [==============================] - 31s 6ms/step - loss: 0.1247 - acc: 0.9493\n",
      "Epoch 36/100\n",
      "5312/5312 [==============================] - 30s 6ms/step - loss: 0.1231 - acc: 0.9499\n",
      "Epoch 37/100\n",
      "5312/5312 [==============================] - 30s 6ms/step - loss: 0.1155 - acc: 0.9542\n",
      "Epoch 38/100\n",
      "5312/5312 [==============================] - 31s 6ms/step - loss: 0.1164 - acc: 0.9538\n",
      "Epoch 39/100\n",
      "5312/5312 [==============================] - 32s 6ms/step - loss: 0.1105 - acc: 0.9575\n",
      "Epoch 40/100\n",
      "5312/5312 [==============================] - 31s 6ms/step - loss: 0.1164 - acc: 0.9547\n",
      "Epoch 41/100\n",
      "5312/5312 [==============================] - 31s 6ms/step - loss: 0.1104 - acc: 0.9569\n",
      "Epoch 42/100\n",
      "5312/5312 [==============================] - 31s 6ms/step - loss: 0.0983 - acc: 0.9617\n",
      "Epoch 43/100\n",
      "5312/5312 [==============================] - 31s 6ms/step - loss: 0.0933 - acc: 0.9646\n",
      "Epoch 44/100\n",
      "5312/5312 [==============================] - 31s 6ms/step - loss: 0.0909 - acc: 0.9653\n",
      "Epoch 45/100\n",
      "5312/5312 [==============================] - 31s 6ms/step - loss: 0.0876 - acc: 0.9664\n",
      "Epoch 46/100\n",
      "5312/5312 [==============================] - 31s 6ms/step - loss: 0.0831 - acc: 0.9691\n",
      "Epoch 47/100\n",
      "5312/5312 [==============================] - 31s 6ms/step - loss: 0.0831 - acc: 0.9684\n",
      "Epoch 48/100\n",
      "5312/5312 [==============================] - 31s 6ms/step - loss: 0.0827 - acc: 0.9694\n",
      "Epoch 49/100\n",
      "5312/5312 [==============================] - 31s 6ms/step - loss: 0.0861 - acc: 0.9682\n",
      "Epoch 50/100\n",
      "5312/5312 [==============================] - 31s 6ms/step - loss: 0.0957 - acc: 0.9652\n",
      "Epoch 51/100\n",
      "5312/5312 [==============================] - 31s 6ms/step - loss: 0.0853 - acc: 0.9686\n",
      "Epoch 52/100\n",
      "5312/5312 [==============================] - 30s 6ms/step - loss: 0.0773 - acc: 0.9720\n",
      "Epoch 53/100\n",
      "5312/5312 [==============================] - 31s 6ms/step - loss: 0.0798 - acc: 0.9702\n",
      "Epoch 54/100\n",
      "5312/5312 [==============================] - 31s 6ms/step - loss: 0.0767 - acc: 0.9718\n",
      "Epoch 55/100\n",
      "5312/5312 [==============================] - 30s 6ms/step - loss: 0.0766 - acc: 0.9726\n",
      "Epoch 56/100\n",
      "5312/5312 [==============================] - 31s 6ms/step - loss: 0.0692 - acc: 0.9746\n",
      "Epoch 57/100\n",
      "5312/5312 [==============================] - 30s 6ms/step - loss: 0.0699 - acc: 0.9751\n",
      "Epoch 58/100\n",
      "5312/5312 [==============================] - 31s 6ms/step - loss: 0.0642 - acc: 0.9763\n",
      "Epoch 59/100\n",
      "5312/5312 [==============================] - 31s 6ms/step - loss: 0.0648 - acc: 0.9777\n",
      "Epoch 60/100\n",
      "5312/5312 [==============================] - 31s 6ms/step - loss: 0.0593 - acc: 0.9800\n",
      "Epoch 61/100\n",
      "5312/5312 [==============================] - 30s 6ms/step - loss: 0.0700 - acc: 0.9756\n",
      "Epoch 62/100\n",
      "5312/5312 [==============================] - 31s 6ms/step - loss: 0.0677 - acc: 0.9757\n",
      "Epoch 63/100\n",
      "5312/5312 [==============================] - 30s 6ms/step - loss: 0.0616 - acc: 0.9789\n",
      "Epoch 64/100\n",
      "5312/5312 [==============================] - 30s 6ms/step - loss: 0.0564 - acc: 0.9807\n",
      "Epoch 65/100\n",
      "5312/5312 [==============================] - 31s 6ms/step - loss: 0.0658 - acc: 0.9768\n",
      "Epoch 66/100\n",
      "5312/5312 [==============================] - 31s 6ms/step - loss: 0.0623 - acc: 0.9782\n",
      "Epoch 67/100\n",
      "5312/5312 [==============================] - 30s 6ms/step - loss: 0.0534 - acc: 0.9820\n",
      "Epoch 68/100\n",
      "5312/5312 [==============================] - 31s 6ms/step - loss: 0.0529 - acc: 0.9815\n",
      "Epoch 69/100\n",
      "5312/5312 [==============================] - 30s 6ms/step - loss: 0.0542 - acc: 0.9812\n",
      "Epoch 70/100\n",
      "5312/5312 [==============================] - 31s 6ms/step - loss: 0.0640 - acc: 0.9787\n",
      "Epoch 71/100\n",
      "5312/5312 [==============================] - 31s 6ms/step - loss: 0.0614 - acc: 0.9796\n",
      "Epoch 72/100\n",
      "5312/5312 [==============================] - 30s 6ms/step - loss: 0.0476 - acc: 0.9839\n",
      "Epoch 73/100\n",
      "5312/5312 [==============================] - 31s 6ms/step - loss: 0.0489 - acc: 0.9844\n",
      "Epoch 74/100\n",
      "5312/5312 [==============================] - 30s 6ms/step - loss: 0.0447 - acc: 0.9849\n",
      "Epoch 75/100\n",
      "5312/5312 [==============================] - 30s 6ms/step - loss: 0.0459 - acc: 0.9847\n",
      "Epoch 76/100\n",
      "5312/5312 [==============================] - 31s 6ms/step - loss: 0.0525 - acc: 0.9829\n",
      "Epoch 77/100\n",
      "5312/5312 [==============================] - 31s 6ms/step - loss: 0.0605 - acc: 0.9805\n",
      "Epoch 78/100\n",
      "5312/5312 [==============================] - 31s 6ms/step - loss: 0.0648 - acc: 0.9786\n",
      "Epoch 79/100\n",
      "5312/5312 [==============================] - 31s 6ms/step - loss: 0.0503 - acc: 0.9834\n",
      "Epoch 80/100\n",
      "5312/5312 [==============================] - 30s 6ms/step - loss: 0.0495 - acc: 0.9844\n",
      "Epoch 81/100\n",
      "5312/5312 [==============================] - 31s 6ms/step - loss: 0.0496 - acc: 0.9836\n",
      "Epoch 82/100\n",
      "5312/5312 [==============================] - 31s 6ms/step - loss: 0.0452 - acc: 0.9849\n",
      "Epoch 83/100\n"
     ]
    },
    {
     "name": "stdout",
     "output_type": "stream",
     "text": [
      "5312/5312 [==============================] - 30s 6ms/step - loss: 0.0441 - acc: 0.9848\n",
      "Epoch 84/100\n",
      "5312/5312 [==============================] - 30s 6ms/step - loss: 0.0467 - acc: 0.9853\n",
      "Epoch 85/100\n",
      "5312/5312 [==============================] - 30s 6ms/step - loss: 0.0474 - acc: 0.9850\n",
      "Epoch 86/100\n",
      "5312/5312 [==============================] - 31s 6ms/step - loss: 0.0431 - acc: 0.9863\n",
      "Epoch 87/100\n",
      "5312/5312 [==============================] - 30s 6ms/step - loss: 0.0406 - acc: 0.9871\n",
      "Epoch 88/100\n",
      "5312/5312 [==============================] - 31s 6ms/step - loss: 0.0419 - acc: 0.9867\n",
      "Epoch 89/100\n",
      "5312/5312 [==============================] - 30s 6ms/step - loss: 0.0426 - acc: 0.9853\n",
      "Epoch 90/100\n",
      "5312/5312 [==============================] - 30s 6ms/step - loss: 0.0451 - acc: 0.9847\n",
      "Epoch 91/100\n",
      "5312/5312 [==============================] - 30s 6ms/step - loss: 0.0394 - acc: 0.9881\n",
      "Epoch 92/100\n",
      "5312/5312 [==============================] - 30s 6ms/step - loss: 0.0369 - acc: 0.9881\n",
      "Epoch 93/100\n",
      "5312/5312 [==============================] - 30s 6ms/step - loss: 0.0407 - acc: 0.9876\n",
      "Epoch 94/100\n",
      "5312/5312 [==============================] - 30s 6ms/step - loss: 0.0471 - acc: 0.9845\n",
      "Epoch 95/100\n",
      "5312/5312 [==============================] - 30s 6ms/step - loss: 0.0365 - acc: 0.9880\n",
      "Epoch 96/100\n",
      "5312/5312 [==============================] - 30s 6ms/step - loss: 0.0379 - acc: 0.9879\n",
      "Epoch 97/100\n",
      "5312/5312 [==============================] - 30s 6ms/step - loss: 0.0376 - acc: 0.9876\n",
      "Epoch 98/100\n",
      "5312/5312 [==============================] - 31s 6ms/step - loss: 0.0344 - acc: 0.9898\n",
      "Epoch 99/100\n",
      "5312/5312 [==============================] - 31s 6ms/step - loss: 0.0457 - acc: 0.9854\n",
      "Epoch 100/100\n",
      "5312/5312 [==============================] - 30s 6ms/step - loss: 0.0438 - acc: 0.9865\n"
     ]
    }
   ],
   "source": [
    "H1 = model.fit(X_train, y_train, epochs=100, batch_size=100, verbose=1)"
   ]
  },
  {
   "cell_type": "code",
   "execution_count": 14,
   "metadata": {},
   "outputs": [
    {
     "data": {
      "image/png": "[encoded data removed]",
      "text/plain": [
       "<Figure size 432x288 with 1 Axes>"
      ]
     },
     "metadata": {},
     "output_type": "display_data"
    }
   ],
   "source": [
    "print(H1.history.keys())\n",
    "\n",
    "plt.plot(H1.history[\"loss\"])\n",
    "plt.plot(H1.history[\"acc\"])\n",
    "plt.legend(['loss', 'accuracy'], loc='upper left')\n",
    "plt.xlabel(\"epochs\")\n",
    "plt.ylabel(\"loss & accuracy maeasure\")\n",
    "plt.title(\"Distribution of Accuracy and Loss over the epochs\")\n",
    "plt.show()"
   ]
  },
  {
   "cell_type": "code",
   "execution_count": 17,
   "metadata": {},
   "outputs": [
    {
     "name": "stdout",
     "output_type": "stream",
     "text": [
      "1587/1587 [==============================] - 4s 3ms/step\n"
     ]
    },
    {
     "data": {
      "text/plain": [
       "[0.3325441081004092, 0.9194234404912442]"
      ]
     },
     "execution_count": 17,
     "metadata": {},
     "output_type": "execute_result"
    }
   ],
   "source": [
    "score = model.evaluate(X_test, y_test, verbose=1)\n",
    "print(\"The score loss of test model is %f\" %(score[0]))\n",
    "print(\"The score accuracy of test model is %f\" %(score[1]*100))"
   ]
  },
  {
   "cell_type": "code",
   "execution_count": 22,
   "metadata": {},
   "outputs": [
    {
     "name": "stdout",
     "output_type": "stream",
     "text": [
      "1587/1587 [==============================] - 4s 3ms/step\n",
      "The accuracy of the predicted model using the deep learning multi class classification is 99.910486%\n"
     ]
    }
   ],
   "source": [
    "y_pred = model.predict(X_test,  batch_size=100, verbose=1)\n",
    "print(\"The accuracy of the predicted model using the deep learning multi class classification is %f\" %(100-np.mean(np.abs(y_pred - y_test)))+'%')"
   ]
  },
  {
   "cell_type": "code",
   "execution_count": 29,
   "metadata": {},
   "outputs": [
    {
     "data": {
      "text/plain": [
       "(array([1.1450356e-10, 1.1365213e-14, 1.6954382e-05, 1.7440944e-09,\n",
       "        7.1593172e-06, 1.3819704e-09, 9.3916174e-17, 9.9746692e-01],\n",
       "       dtype=float32), array([0., 0., 0., 0., 0., 0., 0., 1.], dtype=float32))"
      ]
     },
     "execution_count": 29,
     "metadata": {},
     "output_type": "execute_result"
    }
   ],
   "source": [
    "y_pred[3], y_test[3]"
   ]
  },
  {
   "cell_type": "code",
   "execution_count": null,
   "metadata": {},
   "outputs": [],
   "source": []
  }
 ],
 "metadata": {
  "kernelspec": {
   "display_name": "Python 3",
   "language": "python",
   "name": "python3"
  },
  "language_info": {
   "codemirror_mode": {
    "name": "ipython",
    "version": 3
   },
   "file_extension": ".py",
   "mimetype": "text/x-python",
   "name": "python",
   "nbconvert_exporter": "python",
   "pygments_lexer": "ipython3",
   "version": "3.6.8"
  }
 },
 "nbformat": 4,
 "nbformat_minor": 2
}
